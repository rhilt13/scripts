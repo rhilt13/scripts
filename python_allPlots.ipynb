{
 "cells": [
  {
   "cell_type": "markdown",
   "metadata": {
    "heading_collapsed": true
   },
   "source": [
    "### KinOrtho ortholog comparison plots"
   ]
  },
  {
   "cell_type": "code",
   "execution_count": 3,
   "metadata": {
    "ExecuteTime": {
     "end_time": "2020-04-22T01:53:54.871268Z",
     "start_time": "2020-04-22T01:53:54.858763Z"
    },
    "hidden": true
   },
   "outputs": [
    {
     "name": "stdout",
     "output_type": "stream",
     "text": [
      "/Users/rtaujale/Dropbox (Edison_Lab@UGA)/kannan_lab/projects/kinview_Orthologs/KinOrtho_QfO2011_200403\n"
     ]
    }
   ],
   "source": [
    "cd ~/Dropbox/kannan_lab/projects/kinview_Orthologs/KinOrtho_QfO2011_200403"
   ]
  },
  {
   "cell_type": "code",
   "execution_count": 36,
   "metadata": {
    "ExecuteTime": {
     "end_time": "2020-04-22T02:26:43.137817Z",
     "start_time": "2020-04-22T02:26:43.134352Z"
    },
    "hidden": true
   },
   "outputs": [],
   "source": [
    "import pandas as pd\n",
    "import numpy as np\n",
    "import matplotlib.pyplot as plt\n",
    "import matplotlib.cm as cm\n",
    "import matplotlib.colors as colors\n",
    "import math"
   ]
  },
  {
   "cell_type": "code",
   "execution_count": 11,
   "metadata": {
    "ExecuteTime": {
     "end_time": "2020-04-22T01:56:21.536578Z",
     "start_time": "2020-04-22T01:56:21.510881Z"
    },
    "hidden": true
   },
   "outputs": [
    {
     "data": {
      "text/html": [
       "<div>\n",
       "<style scoped>\n",
       "    .dataframe tbody tr th:only-of-type {\n",
       "        vertical-align: middle;\n",
       "    }\n",
       "\n",
       "    .dataframe tbody tr th {\n",
       "        vertical-align: top;\n",
       "    }\n",
       "\n",
       "    .dataframe thead th {\n",
       "        text-align: right;\n",
       "    }\n",
       "</style>\n",
       "<table border=\"1\" class=\"dataframe\">\n",
       "  <thead>\n",
       "    <tr style=\"text-align: right;\">\n",
       "      <th></th>\n",
       "      <th>0</th>\n",
       "      <th>1</th>\n",
       "      <th>2</th>\n",
       "      <th>3</th>\n",
       "      <th>4</th>\n",
       "      <th>5</th>\n",
       "      <th>6</th>\n",
       "      <th>7</th>\n",
       "      <th>8</th>\n",
       "      <th>9</th>\n",
       "      <th>10</th>\n",
       "      <th>11</th>\n",
       "      <th>12</th>\n",
       "      <th>13</th>\n",
       "      <th>14</th>\n",
       "      <th>15</th>\n",
       "      <th>16</th>\n",
       "      <th>17</th>\n",
       "      <th>18</th>\n",
       "    </tr>\n",
       "  </thead>\n",
       "  <tbody>\n",
       "    <tr>\n",
       "      <td>0</td>\n",
       "      <td>Broccoli1</td>\n",
       "      <td>0.955095</td>\n",
       "      <td>0.687105</td>\n",
       "      <td>0.779726</td>\n",
       "      <td>0.941105</td>\n",
       "      <td>0.753536</td>\n",
       "      <td>0.822174</td>\n",
       "      <td>0.954220</td>\n",
       "      <td>0.777045</td>\n",
       "      <td>0.841160</td>\n",
       "      <td>0.021683</td>\n",
       "      <td>0.046251</td>\n",
       "      <td>0.034550</td>\n",
       "      <td>0.019575</td>\n",
       "      <td>0.038149</td>\n",
       "      <td>0.026812</td>\n",
       "      <td>0.01656</td>\n",
       "      <td>0.037641</td>\n",
       "      <td>0.026135</td>\n",
       "    </tr>\n",
       "    <tr>\n",
       "      <td>1</td>\n",
       "      <td>EggNOG5.0</td>\n",
       "      <td>0.890825</td>\n",
       "      <td>0.727711</td>\n",
       "      <td>0.782641</td>\n",
       "      <td>0.879854</td>\n",
       "      <td>0.806754</td>\n",
       "      <td>0.827805</td>\n",
       "      <td>0.874793</td>\n",
       "      <td>0.807128</td>\n",
       "      <td>0.825406</td>\n",
       "      <td>0.027889</td>\n",
       "      <td>0.048179</td>\n",
       "      <td>0.034399</td>\n",
       "      <td>0.025785</td>\n",
       "      <td>0.038329</td>\n",
       "      <td>0.026782</td>\n",
       "      <td>0.02623</td>\n",
       "      <td>0.038512</td>\n",
       "      <td>0.027481</td>\n",
       "    </tr>\n",
       "  </tbody>\n",
       "</table>\n",
       "</div>"
      ],
      "text/plain": [
       "          0         1         2         3         4         5         6   \\\n",
       "0  Broccoli1  0.955095  0.687105  0.779726  0.941105  0.753536  0.822174   \n",
       "1  EggNOG5.0  0.890825  0.727711  0.782641  0.879854  0.806754  0.827805   \n",
       "\n",
       "         7         8         9         10        11        12        13  \\\n",
       "0  0.954220  0.777045  0.841160  0.021683  0.046251  0.034550  0.019575   \n",
       "1  0.874793  0.807128  0.825406  0.027889  0.048179  0.034399  0.025785   \n",
       "\n",
       "         14        15       16        17        18  \n",
       "0  0.038149  0.026812  0.01656  0.037641  0.026135  \n",
       "1  0.038329  0.026782  0.02623  0.038512  0.027481  "
      ]
     },
     "execution_count": 11,
     "metadata": {},
     "output_type": "execute_result"
    }
   ],
   "source": [
    "df=pd.read_csv('comparison_summary',sep=' ',header=None)\n",
    "df.head(2)"
   ]
  },
  {
   "cell_type": "code",
   "execution_count": 15,
   "metadata": {
    "ExecuteTime": {
     "end_time": "2020-04-22T01:59:33.234437Z",
     "start_time": "2020-04-22T01:59:33.222954Z"
    },
    "hidden": true
   },
   "outputs": [],
   "source": [
    "with open('comparison_summary.header') as f:\n",
    "    lines = f.read().split(' ')\n",
    "df.columns=lines"
   ]
  },
  {
   "cell_type": "code",
   "execution_count": 18,
   "metadata": {
    "ExecuteTime": {
     "end_time": "2020-04-22T01:59:55.617011Z",
     "start_time": "2020-04-22T01:59:55.597139Z"
    },
    "hidden": true
   },
   "outputs": [
    {
     "data": {
      "text/html": [
       "<div>\n",
       "<style scoped>\n",
       "    .dataframe tbody tr th:only-of-type {\n",
       "        vertical-align: middle;\n",
       "    }\n",
       "\n",
       "    .dataframe tbody tr th {\n",
       "        vertical-align: top;\n",
       "    }\n",
       "\n",
       "    .dataframe thead th {\n",
       "        text-align: right;\n",
       "    }\n",
       "</style>\n",
       "<table border=\"1\" class=\"dataframe\">\n",
       "  <thead>\n",
       "    <tr style=\"text-align: right;\">\n",
       "      <th></th>\n",
       "      <th>Method</th>\n",
       "      <th>Both_AvgPrecision</th>\n",
       "      <th>Both_AvgRecall</th>\n",
       "      <th>Both_AvgFmeasure</th>\n",
       "      <th>Full_AvgPrecision</th>\n",
       "      <th>Full_AvgRecall</th>\n",
       "      <th>Full_AvgFmeasure</th>\n",
       "      <th>Dom_AvgPrecision</th>\n",
       "      <th>Dom_AvgRecall</th>\n",
       "      <th>Dom_AvgFmeasure</th>\n",
       "      <th>Both_SEPrecision</th>\n",
       "      <th>Both_SERecall</th>\n",
       "      <th>Both_SEFmeasure</th>\n",
       "      <th>Full_SEPrecision</th>\n",
       "      <th>Full_SERecall</th>\n",
       "      <th>Full_SEFmeasure</th>\n",
       "      <th>Dom_SEPrecision</th>\n",
       "      <th>Dom_SERecall</th>\n",
       "      <th>Dom_SEFmeasure\\n</th>\n",
       "    </tr>\n",
       "  </thead>\n",
       "  <tbody>\n",
       "    <tr>\n",
       "      <td>0</td>\n",
       "      <td>Broccoli1</td>\n",
       "      <td>0.955095</td>\n",
       "      <td>0.687105</td>\n",
       "      <td>0.779726</td>\n",
       "      <td>0.941105</td>\n",
       "      <td>0.753536</td>\n",
       "      <td>0.822174</td>\n",
       "      <td>0.954220</td>\n",
       "      <td>0.777045</td>\n",
       "      <td>0.841160</td>\n",
       "      <td>0.021683</td>\n",
       "      <td>0.046251</td>\n",
       "      <td>0.034550</td>\n",
       "      <td>0.019575</td>\n",
       "      <td>0.038149</td>\n",
       "      <td>0.026812</td>\n",
       "      <td>0.01656</td>\n",
       "      <td>0.037641</td>\n",
       "      <td>0.026135</td>\n",
       "    </tr>\n",
       "    <tr>\n",
       "      <td>1</td>\n",
       "      <td>EggNOG5.0</td>\n",
       "      <td>0.890825</td>\n",
       "      <td>0.727711</td>\n",
       "      <td>0.782641</td>\n",
       "      <td>0.879854</td>\n",
       "      <td>0.806754</td>\n",
       "      <td>0.827805</td>\n",
       "      <td>0.874793</td>\n",
       "      <td>0.807128</td>\n",
       "      <td>0.825406</td>\n",
       "      <td>0.027889</td>\n",
       "      <td>0.048179</td>\n",
       "      <td>0.034399</td>\n",
       "      <td>0.025785</td>\n",
       "      <td>0.038329</td>\n",
       "      <td>0.026782</td>\n",
       "      <td>0.02623</td>\n",
       "      <td>0.038512</td>\n",
       "      <td>0.027481</td>\n",
       "    </tr>\n",
       "  </tbody>\n",
       "</table>\n",
       "</div>"
      ],
      "text/plain": [
       "      Method  Both_AvgPrecision  Both_AvgRecall  Both_AvgFmeasure  \\\n",
       "0  Broccoli1           0.955095        0.687105          0.779726   \n",
       "1  EggNOG5.0           0.890825        0.727711          0.782641   \n",
       "\n",
       "   Full_AvgPrecision  Full_AvgRecall  Full_AvgFmeasure  Dom_AvgPrecision  \\\n",
       "0           0.941105        0.753536          0.822174          0.954220   \n",
       "1           0.879854        0.806754          0.827805          0.874793   \n",
       "\n",
       "   Dom_AvgRecall  Dom_AvgFmeasure  Both_SEPrecision  Both_SERecall  \\\n",
       "0       0.777045         0.841160          0.021683       0.046251   \n",
       "1       0.807128         0.825406          0.027889       0.048179   \n",
       "\n",
       "   Both_SEFmeasure  Full_SEPrecision  Full_SERecall  Full_SEFmeasure  \\\n",
       "0         0.034550          0.019575       0.038149         0.026812   \n",
       "1         0.034399          0.025785       0.038329         0.026782   \n",
       "\n",
       "   Dom_SEPrecision  Dom_SERecall  Dom_SEFmeasure\\n  \n",
       "0          0.01656      0.037641          0.026135  \n",
       "1          0.02623      0.038512          0.027481  "
      ]
     },
     "execution_count": 18,
     "metadata": {},
     "output_type": "execute_result"
    }
   ],
   "source": [
    "df.head(2)"
   ]
  },
  {
   "cell_type": "code",
   "execution_count": 38,
   "metadata": {
    "ExecuteTime": {
     "end_time": "2020-04-22T02:26:55.672449Z",
     "start_time": "2020-04-22T02:26:55.664323Z"
    },
    "hidden": true
   },
   "outputs": [],
   "source": [
    "def generate_colormap(N):\n",
    "    arr = np.arange(N)/N\n",
    "    N_up = int(math.ceil(N/7)*7)\n",
    "    arr.resize(N_up)\n",
    "    arr = arr.reshape(7,N_up//7).T.reshape(-1)\n",
    "    ret = cm.hsv(arr)\n",
    "    n = ret[:,3].size\n",
    "    a = n//2\n",
    "    b = n-a\n",
    "    for i in range(3):\n",
    "        ret[0:n//2,i] *= np.arange(0.2,1,0.8/a)\n",
    "    ret[n//2:,3] *= np.arange(1,0.1,-0.9/b)\n",
    "#     print(ret)\n",
    "    return ret"
   ]
  },
  {
   "cell_type": "code",
   "execution_count": 41,
   "metadata": {
    "ExecuteTime": {
     "end_time": "2020-04-22T02:27:25.043309Z",
     "start_time": "2020-04-22T02:27:24.846072Z"
    },
    "hidden": true
   },
   "outputs": [
    {
     "data": {
      "image/png": "[encoded data removed]",
      "text/plain": [
       "<Figure size 720x720 with 1 Axes>"
      ]
     },
     "metadata": {
      "needs_background": "light"
     },
     "output_type": "display_data"
    }
   ],
   "source": [
    "N = 16\n",
    "H = np.arange(N*N).reshape([N,N])\n",
    "fig = plt.figure(figsize=(10, 10))\n",
    "ax = plt.pcolor(H, cmap=ListedColormap(generate_colormap(N)))"
   ]
  },
  {
   "cell_type": "code",
   "execution_count": 44,
   "metadata": {
    "ExecuteTime": {
     "end_time": "2020-04-22T02:28:18.403508Z",
     "start_time": "2020-04-22T02:28:18.389596Z"
    },
    "hidden": true
   },
   "outputs": [
    {
     "ename": "AttributeError",
     "evalue": "'ListedColormap' object has no attribute 'shape'",
     "output_type": "error",
     "traceback": [
      "\u001b[0;31m---------------------------------------------------------------------------\u001b[0m",
      "\u001b[0;31mAttributeError\u001b[0m                            Traceback (most recent call last)",
      "\u001b[0;32m<ipython-input-44-067d5a4d9499>\u001b[0m in \u001b[0;36m<module>\u001b[0;34m\u001b[0m\n\u001b[1;32m      1\u001b[0m \u001b[0mcmap\u001b[0m\u001b[0;34m=\u001b[0m\u001b[0mListedColormap\u001b[0m\u001b[0;34m(\u001b[0m\u001b[0mgenerate_colormap\u001b[0m\u001b[0;34m(\u001b[0m\u001b[0mN\u001b[0m\u001b[0;34m)\u001b[0m\u001b[0;34m)\u001b[0m\u001b[0;34m\u001b[0m\u001b[0;34m\u001b[0m\u001b[0m\n\u001b[0;32m----> 2\u001b[0;31m \u001b[0mcmap\u001b[0m\u001b[0;34m.\u001b[0m\u001b[0mshape\u001b[0m\u001b[0;34m\u001b[0m\u001b[0;34m\u001b[0m\u001b[0m\n\u001b[0m",
      "\u001b[0;31mAttributeError\u001b[0m: 'ListedColormap' object has no attribute 'shape'"
     ]
    }
   ],
   "source": [
    "cmap=ListedColormap(generate_colormap(N))\n"
   ]
  },
  {
   "cell_type": "code",
   "execution_count": 82,
   "metadata": {
    "ExecuteTime": {
     "end_time": "2020-04-22T03:02:07.743394Z",
     "start_time": "2020-04-22T03:02:07.734288Z"
    },
    "hidden": true
   },
   "outputs": [],
   "source": [
    "# ax.scatter(df.Both_AvgPrecision, df.Both_AvgRecall,c=df.Method.tolist())\n",
    "# ax.legend()\n",
    "def get_scatter(plotX,xlab,plotY,ylab,title,labels,xerrors,yerrors): \n",
    "    fig, ax = plt.subplots()\n",
    "    colormap = ListedColormap(generate_colormap(20))\n",
    "    colorlist = [colors.rgb2hex(colormap(i)) for i in np.linspace(0, 0.9, len(labels))]\n",
    "    for i,c in enumerate(colorlist):\n",
    "        x = plotX[i]\n",
    "        y = plotY[i]\n",
    "        l = labels[i]\n",
    "        ye=yerrors[i]\n",
    "        xe=xerrors[i]\n",
    "        ax.scatter(x, y, label=l, s=50, linewidth=0.1, c=c)\n",
    "        ax.errorbar(x, y, yerr=ye, xerr=xe, fmt='o',c=c)\n",
    "    ax.legend(loc='center left', bbox_to_anchor=(1, 0.5))\n",
    "    plt.title(title)\n",
    "    plt.xlabel(xlab)\n",
    "    plt.ylabel(ylab)\n",
    "    plt.show()\n",
    "    return(fig,ax)"
   ]
  },
  {
   "cell_type": "code",
   "execution_count": 92,
   "metadata": {
    "ExecuteTime": {
     "end_time": "2020-04-22T03:09:52.411823Z",
     "start_time": "2020-04-22T03:09:52.044713Z"
    },
    "hidden": true
   },
   "outputs": [
    {
     "data": {
      "image/png": "[encoded data removed]",
      "text/plain": [
       "<Figure size 432x288 with 1 Axes>"
      ]
     },
     "metadata": {
      "needs_background": "light"
     },
     "output_type": "display_data"
    }
   ],
   "source": [
    "# plotX=df['Both_AvgPrecision']\n",
    "# plotY=df['Both_AvgRecall']\n",
    "# labels=df['Method']\n",
    "# yerrors=df['Both_SERecall']\n",
    "# xerrors=df['Both_SEPrecision']\n",
    "get_scatter(df['Both_AvgPrecision'],\"Precision\",df['Both_AvgRecall'],\"Recall\",\n",
    "            \"KinOrtho (both) compared to other tools on QfO2011 dataset\",\n",
    "            df['Method'],df['Both_SEPrecision'],df['Both_SERecall'])\n",
    "fig.savefig('both.svg')"
   ]
  },
  {
   "cell_type": "code",
   "execution_count": 91,
   "metadata": {
    "ExecuteTime": {
     "end_time": "2020-04-22T03:09:48.637159Z",
     "start_time": "2020-04-22T03:09:48.278538Z"
    },
    "hidden": true
   },
   "outputs": [
    {
     "data": {
      "image/png": "[encoded data removed]",
      "text/plain": [
       "<Figure size 432x288 with 1 Axes>"
      ]
     },
     "metadata": {
      "needs_background": "light"
     },
     "output_type": "display_data"
    }
   ],
   "source": [
    "get_scatter(df['Full_AvgPrecision'],\"Precision\",df['Full_AvgRecall'],\"Recall\",\n",
    "            \"KinOrtho (Full) compared to other tools on QfO2011 dataset\",\n",
    "            df['Method'],df['Full_SEPrecision'],df['Full_SERecall'])\n",
    "fig.savefig('full.svg')"
   ]
  },
  {
   "cell_type": "code",
   "execution_count": 90,
   "metadata": {
    "ExecuteTime": {
     "end_time": "2020-04-22T03:09:45.464662Z",
     "start_time": "2020-04-22T03:09:45.083194Z"
    },
    "hidden": true
   },
   "outputs": [
    {
     "data": {
      "image/png": "[encoded data removed]",
      "text/plain": [
       "<Figure size 432x288 with 1 Axes>"
      ]
     },
     "metadata": {
      "needs_background": "light"
     },
     "output_type": "display_data"
    }
   ],
   "source": [
    "fig,ax=get_scatter(df['Dom_AvgPrecision'],\"Precision\",df['Dom_AvgRecall'],\"Recall\",\n",
    "            \"KinOrtho (Domain) compared to other tools on QfO2011 dataset\",\n",
    "            df['Method'],df['Dom_SEPrecision'],df['Dom_SERecall'])\n",
    "fig.savefig('dom.svg')"
   ]
  },
  {
   "cell_type": "code",
   "execution_count": 79,
   "metadata": {
    "ExecuteTime": {
     "end_time": "2020-04-22T02:46:00.653078Z",
     "start_time": "2020-04-22T02:46:00.643128Z"
    },
    "hidden": true
   },
   "outputs": [
    {
     "data": {
      "text/plain": [
       "0     0.016560\n",
       "1     0.026230\n",
       "2     0.107941\n",
       "3     0.028465\n",
       "4     0.018194\n",
       "5     0.022727\n",
       "6     0.037667\n",
       "7     0.018009\n",
       "8     0.024552\n",
       "9     0.025708\n",
       "10    0.017295\n",
       "Name: Dom_SEPrecision, dtype: float64"
      ]
     },
     "execution_count": 79,
     "metadata": {},
     "output_type": "execute_result"
    }
   ],
   "source": [
    "df['Dom_SEPrecision']"
   ]
  },
  {
   "cell_type": "code",
   "execution_count": 80,
   "metadata": {
    "ExecuteTime": {
     "end_time": "2020-04-22T02:46:11.029844Z",
     "start_time": "2020-04-22T02:46:11.024652Z"
    },
    "hidden": true
   },
   "outputs": [
    {
     "data": {
      "text/plain": [
       "0              Broccoli1\n",
       "1              EggNOG5.0\n",
       "2     EnsemblCompara_e81\n",
       "3             Hieranoid2\n",
       "4          OF2_Blast_MSA\n",
       "5     OF2_Defaults_BLAST\n",
       "6              OMAPairs2\n",
       "7     OrthoInspector1.30\n",
       "8               PANTHER8\n",
       "9              PhylomeDB\n",
       "10               RBH_BBH\n",
       "Name: Method, dtype: object"
      ]
     },
     "execution_count": 80,
     "metadata": {},
     "output_type": "execute_result"
    }
   ],
   "source": [
    "df.Method"
   ]
  },
  {
   "cell_type": "markdown",
   "metadata": {},
   "source": [
    "### Spike Disulfide plots"
   ]
  },
  {
   "cell_type": "code",
   "execution_count": 1,
   "metadata": {
    "ExecuteTime": {
     "end_time": "2020-04-28T20:00:44.481804Z",
     "start_time": "2020-04-28T20:00:44.473226Z"
    }
   },
   "outputs": [
    {
     "name": "stdout",
     "output_type": "stream",
     "text": [
      "/Users/rtaujale/Dropbox (Edison_Lab@UGA)/kannan_lab/projects/viralSpike/analysis/spikeRbd_pdbDisulfides\n"
     ]
    }
   ],
   "source": [
    "cd ~/Dropbox/kannan_lab/projects/viralSpike/analysis/spikeRbd_pdbDisulfides"
   ]
  },
  {
   "cell_type": "code",
   "execution_count": 17,
   "metadata": {
    "ExecuteTime": {
     "end_time": "2020-04-28T20:24:02.984372Z",
     "start_time": "2020-04-28T20:24:01.901062Z"
    }
   },
   "outputs": [],
   "source": [
    "import pandas as pd\n",
    "import numpy as np\n",
    "import matplotlib.pyplot as plt\n",
    "import matplotlib.cm as cm\n",
    "import matplotlib.colors as colors\n",
    "import math\n",
    "import seaborn as sns"
   ]
  },
  {
   "cell_type": "code",
   "execution_count": 15,
   "metadata": {
    "ExecuteTime": {
     "end_time": "2020-04-28T20:22:11.728157Z",
     "start_time": "2020-04-28T20:22:11.703998Z"
    }
   },
   "outputs": [
    {
     "name": "stdout",
     "output_type": "stream",
     "text": [
      "#Set                 object\n",
      "PDB                  object\n",
      "DisulfideDetails     object\n",
      "AngleDirections      object\n",
      "NumberInPdb           int64\n",
      "Incidence           float64\n",
      "DSE                 float64\n",
      "DSERange             object\n",
      "Distance            float64\n",
      "DistanceRange        object\n",
      "Designation          object\n",
      "Details              object\n",
      "dtype: object\n"
     ]
    },
    {
     "data": {
      "text/html": [
       "<div>\n",
       "<style scoped>\n",
       "    .dataframe tbody tr th:only-of-type {\n",
       "        vertical-align: middle;\n",
       "    }\n",
       "\n",
       "    .dataframe tbody tr th {\n",
       "        vertical-align: top;\n",
       "    }\n",
       "\n",
       "    .dataframe thead th {\n",
       "        text-align: right;\n",
       "    }\n",
       "</style>\n",
       "<table border=\"1\" class=\"dataframe\">\n",
       "  <thead>\n",
       "    <tr style=\"text-align: right;\">\n",
       "      <th></th>\n",
       "      <th>0</th>\n",
       "    </tr>\n",
       "  </thead>\n",
       "  <tbody>\n",
       "    <tr>\n",
       "      <td>0</td>\n",
       "      <td>9.865225</td>\n",
       "    </tr>\n",
       "    <tr>\n",
       "      <td>1</td>\n",
       "      <td>28.963085</td>\n",
       "    </tr>\n",
       "  </tbody>\n",
       "</table>\n",
       "</div>"
      ],
      "text/plain": [
       "           0\n",
       "0   9.865225\n",
       "1  28.963085"
      ]
     },
     "execution_count": 15,
     "metadata": {},
     "output_type": "execute_result"
    }
   ],
   "source": [
    "df=pd.read_csv('disulfide_strains.csv.e5',sep='\\t')\n",
    "print(df.dtypes)\n",
    "df2=pd.read_csv('pdb_disulfides/allPdbDisulfides.txt',sep='\\t',header=None)\n",
    "df2.head(2)"
   ]
  },
  {
   "cell_type": "code",
   "execution_count": 37,
   "metadata": {
    "ExecuteTime": {
     "end_time": "2020-04-28T20:37:05.009390Z",
     "start_time": "2020-04-28T20:37:04.233033Z"
    }
   },
   "outputs": [
    {
     "data": {
      "image/png": "[encoded data removed]",
      "text/plain": [
       "<Figure size 432x288 with 1 Axes>"
      ]
     },
     "metadata": {
      "needs_background": "light"
     },
     "output_type": "display_data"
    }
   ],
   "source": [
    "plt.hist(df2[0], bins = 100, alpha=0.5)\n",
    "plt.hist(df['DSE'], bins = 100, color='red')\n",
    "plt.savefig('both.svg')"
   ]
  },
  {
   "cell_type": "code",
   "execution_count": 39,
   "metadata": {
    "ExecuteTime": {
     "end_time": "2020-04-28T20:48:07.090879Z",
     "start_time": "2020-04-28T20:48:06.827829Z"
    }
   },
   "outputs": [
    {
     "data": {
      "image/png": "[encoded data removed]",
      "text/plain": [
       "<Figure size 432x288 with 1 Axes>"
      ]
     },
     "metadata": {
      "needs_background": "light"
     },
     "output_type": "display_data"
    }
   ],
   "source": [
    "df['Designation'].value_counts().plot(kind='bar')\n",
    "plt.savefig('bar.svg')"
   ]
  },
  {
   "cell_type": "code",
   "execution_count": 49,
   "metadata": {
    "ExecuteTime": {
     "end_time": "2020-04-28T21:19:46.556076Z",
     "start_time": "2020-04-28T21:19:46.536249Z"
    }
   },
   "outputs": [
    {
     "data": {
      "text/html": [
       "<div>\n",
       "<style scoped>\n",
       "    .dataframe tbody tr th:only-of-type {\n",
       "        vertical-align: middle;\n",
       "    }\n",
       "\n",
       "    .dataframe tbody tr th {\n",
       "        vertical-align: top;\n",
       "    }\n",
       "\n",
       "    .dataframe thead th {\n",
       "        text-align: right;\n",
       "    }\n",
       "</style>\n",
       "<table border=\"1\" class=\"dataframe\">\n",
       "  <thead>\n",
       "    <tr style=\"text-align: right;\">\n",
       "      <th></th>\n",
       "      <th>NumberInPdb</th>\n",
       "      <th>Incidence</th>\n",
       "      <th>DSE</th>\n",
       "      <th>Distance</th>\n",
       "    </tr>\n",
       "    <tr>\n",
       "      <th>Designation</th>\n",
       "      <th></th>\n",
       "      <th></th>\n",
       "      <th></th>\n",
       "      <th></th>\n",
       "    </tr>\n",
       "  </thead>\n",
       "  <tbody>\n",
       "    <tr>\n",
       "      <td>+/-LHHook</td>\n",
       "      <td>249</td>\n",
       "      <td>3.62</td>\n",
       "      <td>17.8</td>\n",
       "      <td>6.13</td>\n",
       "    </tr>\n",
       "    <tr>\n",
       "      <td>+/-LHSpiral</td>\n",
       "      <td>599</td>\n",
       "      <td>8.71</td>\n",
       "      <td>13.6</td>\n",
       "      <td>6.08</td>\n",
       "    </tr>\n",
       "    <tr>\n",
       "      <td>+/-LHStaple</td>\n",
       "      <td>142</td>\n",
       "      <td>2.07</td>\n",
       "      <td>18.1</td>\n",
       "      <td>5.39</td>\n",
       "    </tr>\n",
       "    <tr>\n",
       "      <td>+/-RHHook</td>\n",
       "      <td>171</td>\n",
       "      <td>2.49</td>\n",
       "      <td>20.8</td>\n",
       "      <td>5.77</td>\n",
       "    </tr>\n",
       "    <tr>\n",
       "      <td>+/-RHSpiral</td>\n",
       "      <td>443</td>\n",
       "      <td>6.44</td>\n",
       "      <td>14.9</td>\n",
       "      <td>6.06</td>\n",
       "    </tr>\n",
       "    <tr>\n",
       "      <td>+/-RHStaple</td>\n",
       "      <td>84</td>\n",
       "      <td>1.22</td>\n",
       "      <td>19.4</td>\n",
       "      <td>5.25</td>\n",
       "    </tr>\n",
       "    <tr>\n",
       "      <td>+LHHook</td>\n",
       "      <td>111</td>\n",
       "      <td>1.61</td>\n",
       "      <td>18.1</td>\n",
       "      <td>6.00</td>\n",
       "    </tr>\n",
       "    <tr>\n",
       "      <td>+LHSpiral</td>\n",
       "      <td>90</td>\n",
       "      <td>1.31</td>\n",
       "      <td>19.3</td>\n",
       "      <td>6.38</td>\n",
       "    </tr>\n",
       "    <tr>\n",
       "      <td>+LHStaple</td>\n",
       "      <td>29</td>\n",
       "      <td>0.42</td>\n",
       "      <td>18.1</td>\n",
       "      <td>5.81</td>\n",
       "    </tr>\n",
       "    <tr>\n",
       "      <td>+RHHook</td>\n",
       "      <td>63</td>\n",
       "      <td>0.92</td>\n",
       "      <td>23.2</td>\n",
       "      <td>6.00</td>\n",
       "    </tr>\n",
       "    <tr>\n",
       "      <td>+RHSpiral</td>\n",
       "      <td>215</td>\n",
       "      <td>3.13</td>\n",
       "      <td>16.4</td>\n",
       "      <td>6.29</td>\n",
       "    </tr>\n",
       "    <tr>\n",
       "      <td>+RHStaple</td>\n",
       "      <td>32</td>\n",
       "      <td>0.47</td>\n",
       "      <td>33.7</td>\n",
       "      <td>5.92</td>\n",
       "    </tr>\n",
       "    <tr>\n",
       "      <td>-/+LHHook</td>\n",
       "      <td>254</td>\n",
       "      <td>3.70</td>\n",
       "      <td>16.4</td>\n",
       "      <td>5.43</td>\n",
       "    </tr>\n",
       "    <tr>\n",
       "      <td>-/+RHHook</td>\n",
       "      <td>495</td>\n",
       "      <td>7.20</td>\n",
       "      <td>13.7</td>\n",
       "      <td>5.17</td>\n",
       "    </tr>\n",
       "    <tr>\n",
       "      <td>-LHHook</td>\n",
       "      <td>514</td>\n",
       "      <td>7.48</td>\n",
       "      <td>16.1</td>\n",
       "      <td>5.60</td>\n",
       "    </tr>\n",
       "    <tr>\n",
       "      <td>-LHSpiral</td>\n",
       "      <td>1703</td>\n",
       "      <td>24.77</td>\n",
       "      <td>10.1</td>\n",
       "      <td>5.76</td>\n",
       "    </tr>\n",
       "    <tr>\n",
       "      <td>-LHStaple</td>\n",
       "      <td>124</td>\n",
       "      <td>1.80</td>\n",
       "      <td>21.9</td>\n",
       "      <td>5.54</td>\n",
       "    </tr>\n",
       "    <tr>\n",
       "      <td>-RHHook</td>\n",
       "      <td>703</td>\n",
       "      <td>10.23</td>\n",
       "      <td>15.5</td>\n",
       "      <td>5.27</td>\n",
       "    </tr>\n",
       "    <tr>\n",
       "      <td>-RHSpiral</td>\n",
       "      <td>384</td>\n",
       "      <td>5.59</td>\n",
       "      <td>15.1</td>\n",
       "      <td>5.93</td>\n",
       "    </tr>\n",
       "    <tr>\n",
       "      <td>-RHStaple</td>\n",
       "      <td>469</td>\n",
       "      <td>6.82</td>\n",
       "      <td>18.1</td>\n",
       "      <td>4.32</td>\n",
       "    </tr>\n",
       "  </tbody>\n",
       "</table>\n",
       "</div>"
      ],
      "text/plain": [
       "             NumberInPdb  Incidence   DSE  Distance\n",
       "Designation                                        \n",
       "+/-LHHook            249       3.62  17.8      6.13\n",
       "+/-LHSpiral          599       8.71  13.6      6.08\n",
       "+/-LHStaple          142       2.07  18.1      5.39\n",
       "+/-RHHook            171       2.49  20.8      5.77\n",
       "+/-RHSpiral          443       6.44  14.9      6.06\n",
       "+/-RHStaple           84       1.22  19.4      5.25\n",
       "+LHHook              111       1.61  18.1      6.00\n",
       "+LHSpiral             90       1.31  19.3      6.38\n",
       "+LHStaple             29       0.42  18.1      5.81\n",
       "+RHHook               63       0.92  23.2      6.00\n",
       "+RHSpiral            215       3.13  16.4      6.29\n",
       "+RHStaple             32       0.47  33.7      5.92\n",
       "-/+LHHook            254       3.70  16.4      5.43\n",
       "-/+RHHook            495       7.20  13.7      5.17\n",
       "-LHHook              514       7.48  16.1      5.60\n",
       "-LHSpiral           1703      24.77  10.1      5.76\n",
       "-LHStaple            124       1.80  21.9      5.54\n",
       "-RHHook              703      10.23  15.5      5.27\n",
       "-RHSpiral            384       5.59  15.1      5.93\n",
       "-RHStaple            469       6.82  18.1      4.32"
      ]
     },
     "execution_count": 49,
     "metadata": {},
     "output_type": "execute_result"
    }
   ],
   "source": [
    "df2=df.groupby('Designation')\n",
    "df3=df2.mean()\n",
    "df3"
   ]
  }
 ],
 "metadata": {
  "kernelspec": {
   "display_name": "Python 3",
   "language": "python",
   "name": "python3"
  },
  "language_info": {
   "codemirror_mode": {
    "name": "ipython",
    "version": 3
   },
   "file_extension": ".py",
   "mimetype": "text/x-python",
   "name": "python",
   "nbconvert_exporter": "python",
   "pygments_lexer": "ipython3",
   "version": "3.7.4"
  },
  "varInspector": {
   "cols": {
    "lenName": 16,
    "lenType": 16,
    "lenVar": 40
   },
   "kernels_config": {
    "python": {
     "delete_cmd_postfix": "",
     "delete_cmd_prefix": "del ",
     "library": "var_list.py",
     "varRefreshCmd": "print(var_dic_list())"
    },
    "r": {
     "delete_cmd_postfix": ") ",
     "delete_cmd_prefix": "rm(",
     "library": "var_list.r",
     "varRefreshCmd": "cat(var_dic_list()) "
    }
   },
   "oldHeight": 630.016666,
   "position": {
    "height": "40px",
    "left": "1116px",
    "right": "20px",
    "top": "120px",
    "width": "250px"
   },
   "types_to_exclude": [
    "module",
    "function",
    "builtin_function_or_method",
    "instance",
    "_Feature"
   ],
   "varInspector_section_display": "none",
   "window_display": true
  }
 },
 "nbformat": 4,
 "nbformat_minor": 2
}
