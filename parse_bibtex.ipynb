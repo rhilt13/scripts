{
 "cells": [
  {
   "cell_type": "code",
   "execution_count": 1,
   "metadata": {
    "ExecuteTime": {
     "end_time": "2020-05-10T20:22:09.333334Z",
     "start_time": "2020-05-10T20:22:09.320438Z"
    }
   },
   "outputs": [
    {
     "data": {
      "text/plain": [
       "'/Users/rtaujale/git/scripts'"
      ]
     },
     "execution_count": 1,
     "metadata": {},
     "output_type": "execute_result"
    }
   ],
   "source": [
    "pwd"
   ]
  },
  {
   "cell_type": "code",
   "execution_count": 2,
   "metadata": {
    "ExecuteTime": {
     "end_time": "2020-05-10T20:23:18.197959Z",
     "start_time": "2020-05-10T20:23:18.189649Z"
    }
   },
   "outputs": [
    {
     "name": "stdout",
     "output_type": "stream",
     "text": [
      "/Users/rtaujale/git/rahil_taujale/paper-kit-2-html-v2.2.0\n"
     ]
    }
   ],
   "source": [
    "cd '/Users/rtaujale/git/rahil_taujale/paper-kit-2-html-v2.2.0/'"
   ]
  },
  {
   "cell_type": "code",
   "execution_count": 6,
   "metadata": {
    "ExecuteTime": {
     "end_time": "2020-05-10T20:24:34.329990Z",
     "start_time": "2020-05-10T20:24:34.308527Z"
    }
   },
   "outputs": [
    {
     "name": "stdout",
     "output_type": "stream",
     "text": [
      "Glycosyltransferase family 43 is also found in early eukaryotes and has three subfamilies in charophycean green algae\n"
     ]
    }
   ],
   "source": [
    "from pybtex.database.input import bibtex\n",
    "parser = bibtex.Parser()\n",
    "bib_data = parser.parse_file('assets/rahil_bibTeX.bib')\n",
    "bib_data.entries.keys()\n",
    "print(bib_data.entries['taujale2015glycosyltransferase'].fields['title'])"
   ]
  },
  {
   "cell_type": "code",
   "execution_count": 8,
   "metadata": {
    "ExecuteTime": {
     "end_time": "2020-05-10T20:34:43.683228Z",
     "start_time": "2020-05-10T20:34:43.679102Z"
    }
   },
   "outputs": [
    {
     "data": {
      "text/plain": [
       "pybtex.utils.OrderedCaseInsensitiveDict"
      ]
     },
     "execution_count": 8,
     "metadata": {},
     "output_type": "execute_result"
    }
   ],
   "source": [
    "type(bib_data.entries)"
   ]
  }
 ],
 "metadata": {
  "kernelspec": {
   "display_name": "Python 3",
   "language": "python",
   "name": "python3"
  },
  "language_info": {
   "codemirror_mode": {
    "name": "ipython",
    "version": 3
   },
   "file_extension": ".py",
   "mimetype": "text/x-python",
   "name": "python",
   "nbconvert_exporter": "python",
   "pygments_lexer": "ipython3",
   "version": "3.7.4"
  },
  "varInspector": {
   "cols": {
    "lenName": 16,
    "lenType": 16,
    "lenVar": 40
   },
   "kernels_config": {
    "python": {
     "delete_cmd_postfix": "",
     "delete_cmd_prefix": "del ",
     "library": "var_list.py",
     "varRefreshCmd": "print(var_dic_list())"
    },
    "r": {
     "delete_cmd_postfix": ") ",
     "delete_cmd_prefix": "rm(",
     "library": "var_list.r",
     "varRefreshCmd": "cat(var_dic_list()) "
    }
   },
   "types_to_exclude": [
    "module",
    "function",
    "builtin_function_or_method",
    "instance",
    "_Feature"
   ],
   "window_display": false
  }
 },
 "nbformat": 4,
 "nbformat_minor": 2
}
